{
 "cells": [
  {
   "cell_type": "code",
   "execution_count": 18,
   "metadata": {},
   "outputs": [],
   "source": [
    "import pandas as pd\n",
    "import numpy as np\n",
    "from lightfm import LightFM\n",
    "from lightfm.data import Dataset"
   ]
  },
  {
   "cell_type": "code",
   "execution_count": null,
   "metadata": {},
   "outputs": [],
   "source": [
    "#TODO: This is not using all the features in the dataset\n",
    "def create_model(df):\n",
    "    dataset = Dataset()\n",
    "    dataset.fit(df['user_id'].unique(), df['song_id'].unique())\n",
    "\n",
    "    # Play count is string in the dataset for some reason\n",
    "    df['play_count'] = pd.to_numeric(df['play_count'])\n",
    "    \n",
    "    interactions = dataset.build_interactions(\n",
    "        ((row['user_id'], row['song_id'], row['play_count']) \n",
    "         for idx, row in df.iterrows())\n",
    "    )[0]\n",
    "    \n",
    "    model = LightFM(loss='warp')\n",
    "    model.fit(interactions, epochs=30, num_threads=2)\n",
    "    \n",
    "    return model, dataset\n",
    "\n",
    "def get_recommendations(model, dataset, df, user_index, num_recommendations=5):\n",
    "    target_user_id = df['user_id'].unique()[user_index]\n",
    "    n_items = len(dataset.mapping()[2])\n",
    "    user_id_map = dataset.mapping()[0]\n",
    "    user_internal_id = user_id_map[target_user_id]\n",
    "    \n",
    "    scores = model.predict(user_internal_id, np.arange(n_items))\n",
    "    top_items = np.argsort(-scores)[:num_recommendations]\n",
    "    \n",
    "    item_map = {v: k for k, v in dataset.mapping()[2].items()}\n",
    "    return [item_map[i] for i in top_items], target_user_id"
   ]
  },
  {
   "cell_type": "code",
   "execution_count": 20,
   "metadata": {},
   "outputs": [],
   "source": [
    "df = pd.read_csv('song_dataset.csv', header=None, \n",
    "                 names=['user_id', 'song_id', 'play_count', 'title', 'album', 'artist', 'year'])\n",
    "\n",
    "df = df[1:]\n"
   ]
  },
  {
   "cell_type": "code",
   "execution_count": 21,
   "metadata": {},
   "outputs": [],
   "source": [
    "# Building the interactions matrix https://making.lyst.com/lightfm/docs/lightfm.data.html\n",
    "# Some play_count values are missing, so we'll fill them with 0\n",
    "# and convert the column to numeric because it's currently a string\n",
    "'''TODO: Decide what we do with string values'''\n",
    "create_model(df)\n",
    "model, dataset = create_model(df)\n"
   ]
  },
  {
   "cell_type": "code",
   "execution_count": 24,
   "metadata": {},
   "outputs": [
    {
     "name": "stdout",
     "output_type": "stream",
     "text": [
      "Recommendations for user 85c1f87fea955d09b4bec2e36aee110927aedf9a:\n",
      "We're Not Gonna Take It by Less Than Jake\n",
      "Disco Infiltrator (FK's Infiltrated Vocal) by LCD Soundsystem\n",
      "Signos by Soda Stereo\n",
      "Main Title by Alan Silvestri\n",
      "Super Freak by Rick James\n"
     ]
    }
   ],
   "source": [
    "USER_INDEX = 1\n",
    "recommendations, target_user_id = get_recommendations(model, dataset, df, USER_INDEX)\n",
    "print(f\"Recommendations for user {target_user_id}:\")\n",
    "for song_id in recommendations:\n",
    "    print(df[df['song_id'] == song_id]['title'].values[0] + ' by ' + df[df['song_id'] == song_id]['artist'].values[0])"
   ]
  }
 ],
 "metadata": {
  "kernelspec": {
   "display_name": "Python 3",
   "language": "python",
   "name": "python3"
  },
  "language_info": {
   "codemirror_mode": {
    "name": "ipython",
    "version": 3
   },
   "file_extension": ".py",
   "mimetype": "text/x-python",
   "name": "python",
   "nbconvert_exporter": "python",
   "pygments_lexer": "ipython3",
   "version": "3.9.6"
  }
 },
 "nbformat": 4,
 "nbformat_minor": 2
}
