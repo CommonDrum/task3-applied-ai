{
 "cells": [
  {
   "cell_type": "code",
   "execution_count": 34,
   "metadata": {},
   "outputs": [],
   "source": [
    "import pandas as pd\n",
    "import numpy as np\n",
    "from lightfm import LightFM\n",
    "from lightfm.data import Dataset"
   ]
  },
  {
   "cell_type": "code",
   "execution_count": 35,
   "metadata": {},
   "outputs": [],
   "source": [
    "import numpy as np\n",
    "import scipy.sparse as sparse\n",
    "from lightfm import LightFM\n",
    "from sklearn.model_selection import train_test_split\n",
    "\n",
    "class SongRecommender:\n",
    "    def __init__(self, learning_rate=0.05, epochs=50, num_components=30, loss='warp'):\n",
    "        self.model = LightFM(learning_rate=learning_rate,\n",
    "                            no_components=num_components,\n",
    "                            loss=loss)\n",
    "        self.epochs = epochs\n",
    "        \n",
    "    def create_interaction_matrix(self, user_ids, song_ids, play_counts):\n",
    "        self.user_mapping = {user: idx for idx, user in enumerate(np.unique(user_ids))}\n",
    "        self.song_mapping = {song: idx for idx, song in enumerate(np.unique(song_ids))}\n",
    "        \n",
    "        mapped_users = [self.user_mapping[user] for user in user_ids]\n",
    "        mapped_songs = [self.song_mapping[song] for song in song_ids]\n",
    "        \n",
    "        n_users = len(self.user_mapping)\n",
    "        n_songs = len(self.song_mapping)\n",
    "        \n",
    "        numeric_play_counts = np.array(play_counts).astype(np.float32)\n",
    "        normalized_counts = np.log1p(numeric_play_counts)\n",
    "        \n",
    "        interaction_matrix = sparse.coo_matrix(\n",
    "            (normalized_counts, (mapped_users, mapped_songs)),\n",
    "            shape=(n_users, n_songs)\n",
    "        )\n",
    "        \n",
    "        return interaction_matrix.tocsr()\n",
    "    \n",
    "    def fit(self, interaction_matrix):\n",
    "        self.model.fit(interaction_matrix,\n",
    "                      epochs=self.epochs,\n",
    "                      num_threads=4,\n",
    "                      verbose=True)\n",
    "        \n",
    "    def recommend_songs(self, user_id, n_recommendations=10):\n",
    "        if user_id not in self.user_mapping:\n",
    "            raise ValueError(\"User ID not found in training data\")\n",
    "            \n",
    "        user_idx = self.user_mapping[user_id]\n",
    "        n_songs = len(self.song_mapping)\n",
    "        \n",
    "        scores = self.model.predict(user_idx, np.arange(n_songs))\n",
    "        \n",
    "        top_song_indices = np.argsort(-scores)[:n_recommendations]\n",
    "        \n",
    "        reverse_mapping = {idx: song for song, idx in self.song_mapping.items()}\n",
    "        recommendations = [reverse_mapping[idx] for idx in top_song_indices]\n",
    "        \n",
    "        return recommendations, scores[top_song_indices]"
   ]
  },
  {
   "cell_type": "code",
   "execution_count": 36,
   "metadata": {},
   "outputs": [],
   "source": [
    "df = pd.read_csv('song_dataset.csv', header=None, \n",
    "                 names=['user_id', 'song_id', 'play_count', 'title', 'album', 'artist', 'year'])\n",
    "\n",
    "df = df[1:]\n"
   ]
  },
  {
   "cell_type": "code",
   "execution_count": 37,
   "metadata": {},
   "outputs": [
    {
     "name": "stdout",
     "output_type": "stream",
     "text": [
      "Epoch 0\n",
      "Epoch 1\n",
      "Epoch 2\n",
      "Epoch 3\n",
      "Epoch 4\n",
      "Epoch 5\n",
      "Epoch 6\n",
      "Epoch 7\n",
      "Epoch 8\n",
      "Epoch 9\n",
      "Epoch 10\n",
      "Epoch 11\n",
      "Epoch 12\n",
      "Epoch 13\n",
      "Epoch 14\n",
      "Epoch 15\n",
      "Epoch 16\n",
      "Epoch 17\n",
      "Epoch 18\n",
      "Epoch 19\n",
      "Epoch 20\n",
      "Epoch 21\n",
      "Epoch 22\n",
      "Epoch 23\n",
      "Epoch 24\n",
      "Epoch 25\n",
      "Epoch 26\n",
      "Epoch 27\n",
      "Epoch 28\n",
      "Epoch 29\n",
      "Epoch 30\n",
      "Epoch 31\n",
      "Epoch 32\n",
      "Epoch 33\n",
      "Epoch 34\n",
      "Epoch 35\n",
      "Epoch 36\n",
      "Epoch 37\n",
      "Epoch 38\n",
      "Epoch 39\n",
      "Epoch 40\n",
      "Epoch 41\n",
      "Epoch 42\n",
      "Epoch 43\n",
      "Epoch 44\n",
      "Epoch 45\n",
      "Epoch 46\n",
      "Epoch 47\n",
      "Epoch 48\n",
      "Epoch 49\n"
     ]
    }
   ],
   "source": [
    "# Building the interactions matrix https://making.lyst.com/lightfm/docs/lightfm.data.html\n",
    "# Some play_count values are missing, so we'll fill them with 0\n",
    "# and convert the column to numeric because it's currently a string\n",
    "'''TODO: Decide what we do with string values'''\n",
    "recomender = SongRecommender()\n",
    "\n",
    "interaction_matrix = recomender.create_interaction_matrix(df['user_id'], df['song_id'], df['play_count'])\n",
    "recomender.fit(interaction_matrix)\n",
    "\n"
   ]
  },
  {
   "cell_type": "code",
   "execution_count": 47,
   "metadata": {},
   "outputs": [
    {
     "name": "stdout",
     "output_type": "stream",
     "text": [
      "Recommendations for user b80344d063b5ccb3212f76538f3d9e43d87dca9e\n",
      "1. Givin' It Up (Album Version) with score 0.4817662537097931\n",
      "2. Wa Winjigo Ero with score 0.2768052816390991\n",
      "3. Speed Of Sound with score 0.1840609461069107\n",
      "4. Nice To Fit In with score 0.17327721416950226\n",
      "5. It's a Trip with score 0.13761737942695618\n",
      "6. Food Chain (Album Version) with score 0.1324848234653473\n",
      "7. My Love Has Gone with score 0.056497592478990555\n",
      "8. Chiro with score 0.045754846185445786\n",
      "9. Leap Year with score -0.029971202835440636\n",
      "10. Neural Rust with score -0.03608044609427452\n"
     ]
    }
   ],
   "source": [
    "USER_INDEX = 1\n",
    "(song_id, score) = recomender.recommend_songs(df['user_id'][USER_INDEX])\n",
    "\n",
    "print(f\"Recommendations for user {df['user_id'][USER_INDEX]}\")\n",
    "for i, song in enumerate(song_id):\n",
    "    #get the song names\n",
    "    print(f\"{i+1}. {df[df['song_id'] == song]['title'].values[0]} with score {score[i]}\")"
   ]
  },
  {
   "cell_type": "code",
   "execution_count": 42,
   "metadata": {},
   "outputs": [],
   "source": [
    "#https://stackoverflow.com/questions/68857138/predict-new-user-using-lightfm"
   ]
  },
  {
   "cell_type": "code",
   "execution_count": 43,
   "metadata": {},
   "outputs": [],
   "source": [
    "new_user = \"new_user\"\n",
    "five_random_songs = df.sample(5)['song_id'].values\n",
    "playcounts = [1,2,4,5,6]\n",
    "\n",
    "\n"
   ]
  }
 ],
 "metadata": {
  "kernelspec": {
   "display_name": "Python 3",
   "language": "python",
   "name": "python3"
  },
  "language_info": {
   "codemirror_mode": {
    "name": "ipython",
    "version": 3
   },
   "file_extension": ".py",
   "mimetype": "text/x-python",
   "name": "python",
   "nbconvert_exporter": "python",
   "pygments_lexer": "ipython3",
   "version": "3.9.6"
  }
 },
 "nbformat": 4,
 "nbformat_minor": 2
}
