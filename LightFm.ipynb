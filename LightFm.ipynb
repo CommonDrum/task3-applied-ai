{
 "cells": [
  {
   "cell_type": "code",
   "execution_count": 20,
   "metadata": {},
   "outputs": [],
   "source": [
    "import pandas as pd\n",
    "import numpy as np\n",
    "from lightfm import LightFM\n",
    "from lightfm.data import Dataset"
   ]
  },
  {
   "cell_type": "code",
   "execution_count": 21,
   "metadata": {},
   "outputs": [],
   "source": [
    "#TODO: This is not using all the features in the dataset\n",
    "def create_model(df):\n",
    "    dataset = Dataset()\n",
    "    dataset.fit(\n",
    "        users=df['user_id'].unique(), \n",
    "        items=df['song_id'].unique(),\n",
    "        item_features=df['song_id'].unique(),\n",
    "        user_features=df['play_count'].unique()\n",
    "    )\n",
    "    \n",
    "    df['play_count'] = pd.to_numeric(df['play_count'])\n",
    "    interactions = dataset.build_interactions(\n",
    "        ((row['user_id'], row['song_id'], row['play_count'])\n",
    "        for _, row in df.iterrows())\n",
    "    )[0]\n",
    "    \n",
    "    model = LightFM(loss='warp')\n",
    "    model.fit(interactions, epochs=30, num_threads=2)\n",
    "    return model, dataset\n",
    "\n",
    "def get_recommendations(model, dataset, df, user_index, num_recommendations=5):\n",
    "    target_user_id = df['user_id'].unique()[user_index]\n",
    "    n_items = len(dataset.mapping()[2])\n",
    "    user_id_map = dataset.mapping()[0]\n",
    "    user_internal_id = user_id_map[target_user_id]\n",
    "    \n",
    "    scores = model.predict(user_internal_id, np.arange(n_items))\n",
    "    top_items = np.argsort(-scores)[:num_recommendations]\n",
    "    \n",
    "    item_map = {v: k for k, v in dataset.mapping()[2].items()}\n",
    "    return [item_map[i] for i in top_items], target_user_id"
   ]
  },
  {
   "cell_type": "code",
   "execution_count": 22,
   "metadata": {},
   "outputs": [],
   "source": [
    "df = pd.read_csv('song_dataset.csv', header=None, \n",
    "                 names=['user_id', 'song_id', 'play_count', 'title', 'album', 'artist', 'year'])\n",
    "\n",
    "df = df[1:]\n"
   ]
  },
  {
   "cell_type": "code",
   "execution_count": 23,
   "metadata": {},
   "outputs": [],
   "source": [
    "# Building the interactions matrix https://making.lyst.com/lightfm/docs/lightfm.data.html\n",
    "# Some play_count values are missing, so we'll fill them with 0\n",
    "# and convert the column to numeric because it's currently a string\n",
    "'''TODO: Decide what we do with string values'''\n",
    "create_model(df)\n",
    "model, dataset = create_model(df)\n"
   ]
  },
  {
   "cell_type": "code",
   "execution_count": 24,
   "metadata": {},
   "outputs": [
    {
     "name": "stdout",
     "output_type": "stream",
     "text": [
      "Recommendations for user 85c1f87fea955d09b4bec2e36aee110927aedf9a:\n",
      "Hole In The World by Eagles\n",
      "Djobi_ Djoba by Gipsy Kings\n",
      "Make A Move On Me by Joey Negro\n",
      "Palm Reader by Third Eye Blind\n",
      "Get Down by Black Box\n"
     ]
    }
   ],
   "source": [
    "USER_INDEX = 1\n",
    "recommendations, target_user_id = get_recommendations(model, dataset, df, USER_INDEX)\n",
    "print(f\"Recommendations for user {target_user_id}:\")\n",
    "for song_id in recommendations:\n",
    "    print(df[df['song_id'] == song_id]['title'].values[0] + ' by ' + df[df['song_id'] == song_id]['artist'].values[0])"
   ]
  },
  {
   "cell_type": "code",
   "execution_count": null,
   "metadata": {},
   "outputs": [],
   "source": [
    "#https://stackoverflow.com/questions/68857138/predict-new-user-using-lightfm\n",
    "def handle_new_user(model, dataset, sample_songs, new_user_id=\"new_user\"):\n",
    "    dataset.fit_partial(users=[new_user_id])\n",
    "    \n",
    "    new_user_features = [(new_user_id, sample_songs)]\n",
    "    built_features = dataset.build_user_features(new_user_features)\n",
    "    \n",
    "    user_mapping = dataset.mapping()[0]\n",
    "    new_user_internal_id = user_mapping[new_user_id]\n",
    "    n_items = len(dataset.mapping()[2])\n",
    "    \n",
    "    scores = model.predict(new_user_internal_id, np.arange(n_items), user_features=built_features)\n",
    "    \n",
    "    item_map = {v: k for k, v in dataset.mapping()[2].items()}\n",
    "    recommended_songs = [item_map[i] for i in np.argsort(-scores)[:5]]\n",
    "    \n",
    "    return recommended_songs, new_user_id"
   ]
  },
  {
   "cell_type": "code",
   "execution_count": 28,
   "metadata": {},
   "outputs": [
    {
     "ename": "ValueError",
     "evalue": "Feature SOJLXET12AB0188632 not in feature mapping. Call fit first.",
     "output_type": "error",
     "traceback": [
      "\u001b[0;31m---------------------------------------------------------------------------\u001b[0m",
      "\u001b[0;31mValueError\u001b[0m                                Traceback (most recent call last)",
      "Cell \u001b[0;32mIn[28], line 5\u001b[0m\n\u001b[1;32m      2\u001b[0m five_random_songs \u001b[38;5;241m=\u001b[39m df\u001b[38;5;241m.\u001b[39msample(\u001b[38;5;241m5\u001b[39m)[\u001b[38;5;124m'\u001b[39m\u001b[38;5;124msong_id\u001b[39m\u001b[38;5;124m'\u001b[39m]\u001b[38;5;241m.\u001b[39mvalues\n\u001b[1;32m      3\u001b[0m playcounts \u001b[38;5;241m=\u001b[39m [\u001b[38;5;241m1\u001b[39m,\u001b[38;5;241m2\u001b[39m,\u001b[38;5;241m4\u001b[39m,\u001b[38;5;241m5\u001b[39m,\u001b[38;5;241m6\u001b[39m]\n\u001b[0;32m----> 5\u001b[0m recommendations, target_user_id \u001b[38;5;241m=\u001b[39m \u001b[43mhandle_new_user\u001b[49m\u001b[43m(\u001b[49m\u001b[43mmodel\u001b[49m\u001b[43m,\u001b[49m\u001b[43m \u001b[49m\u001b[43mdataset\u001b[49m\u001b[43m,\u001b[49m\u001b[43m \u001b[49m\u001b[38;5;28;43mlist\u001b[39;49m\u001b[43m(\u001b[49m\u001b[38;5;28;43mzip\u001b[39;49m\u001b[43m(\u001b[49m\u001b[43mfive_random_songs\u001b[49m\u001b[43m,\u001b[49m\u001b[43m \u001b[49m\u001b[43mplaycounts\u001b[49m\u001b[43m)\u001b[49m\u001b[43m)\u001b[49m\u001b[43m,\u001b[49m\u001b[43m \u001b[49m\u001b[43mnew_user\u001b[49m\u001b[43m)\u001b[49m\n",
      "Cell \u001b[0;32mIn[27], line 11\u001b[0m, in \u001b[0;36mhandle_new_user\u001b[0;34m(model, dataset, sample_songs, new_user_id)\u001b[0m\n\u001b[1;32m      8\u001b[0m     features\u001b[38;5;241m.\u001b[39mextend([song_id] \u001b[38;5;241m*\u001b[39m playcount)  \u001b[38;5;66;03m# Repeat song_id based on playcount\u001b[39;00m\n\u001b[1;32m     10\u001b[0m new_user_features \u001b[38;5;241m=\u001b[39m [(new_user_id, features)]\n\u001b[0;32m---> 11\u001b[0m built_features \u001b[38;5;241m=\u001b[39m \u001b[43mdataset\u001b[49m\u001b[38;5;241;43m.\u001b[39;49m\u001b[43mbuild_user_features\u001b[49m\u001b[43m(\u001b[49m\u001b[43mnew_user_features\u001b[49m\u001b[43m)\u001b[49m\n\u001b[1;32m     13\u001b[0m user_mapping \u001b[38;5;241m=\u001b[39m dataset\u001b[38;5;241m.\u001b[39mmapping()[\u001b[38;5;241m0\u001b[39m]\n\u001b[1;32m     14\u001b[0m new_user_internal_id \u001b[38;5;241m=\u001b[39m user_mapping[new_user_id]\n",
      "File \u001b[0;32m~/Library/Python/3.9/lib/python/site-packages/lightfm/data.py:376\u001b[0m, in \u001b[0;36mDataset.build_user_features\u001b[0;34m(self, data, normalize)\u001b[0m\n\u001b[1;32m    346\u001b[0m \u001b[38;5;250m\u001b[39m\u001b[38;5;124;03m\"\"\"\u001b[39;00m\n\u001b[1;32m    347\u001b[0m \u001b[38;5;124;03mBuild a user features matrix out of an iterable of the form\u001b[39;00m\n\u001b[1;32m    348\u001b[0m \u001b[38;5;124;03m(user id, [list of feature names]) or (user id, {feature name: feature weight}).\u001b[39;00m\n\u001b[0;32m   (...)\u001b[0m\n\u001b[1;32m    365\u001b[0m \u001b[38;5;124;03m    Matrix of user features.\u001b[39;00m\n\u001b[1;32m    366\u001b[0m \u001b[38;5;124;03m\"\"\"\u001b[39;00m\n\u001b[1;32m    368\u001b[0m builder \u001b[38;5;241m=\u001b[39m _FeatureBuilder(\n\u001b[1;32m    369\u001b[0m     \u001b[38;5;28mself\u001b[39m\u001b[38;5;241m.\u001b[39m_user_id_mapping,\n\u001b[1;32m    370\u001b[0m     \u001b[38;5;28mself\u001b[39m\u001b[38;5;241m.\u001b[39m_user_feature_mapping,\n\u001b[0;32m   (...)\u001b[0m\n\u001b[1;32m    373\u001b[0m     \u001b[38;5;124m\"\u001b[39m\u001b[38;5;124muser\u001b[39m\u001b[38;5;124m\"\u001b[39m,\n\u001b[1;32m    374\u001b[0m )\n\u001b[0;32m--> 376\u001b[0m \u001b[38;5;28;01mreturn\u001b[39;00m \u001b[43mbuilder\u001b[49m\u001b[38;5;241;43m.\u001b[39;49m\u001b[43mbuild\u001b[49m\u001b[43m(\u001b[49m\u001b[43mdata\u001b[49m\u001b[43m)\u001b[49m\n",
      "File \u001b[0;32m~/Library/Python/3.9/lib/python/site-packages/lightfm/data.py:119\u001b[0m, in \u001b[0;36m_FeatureBuilder.build\u001b[0;34m(self, data)\u001b[0m\n\u001b[1;32m    116\u001b[0m         features\u001b[38;5;241m.\u001b[39mappend(idx, \u001b[38;5;28mself\u001b[39m\u001b[38;5;241m.\u001b[39m_feature_mapping[_id], \u001b[38;5;241m1.0\u001b[39m)\n\u001b[1;32m    118\u001b[0m \u001b[38;5;28;01mfor\u001b[39;00m datum \u001b[38;5;129;01min\u001b[39;00m data:\n\u001b[0;32m--> 119\u001b[0m     \u001b[38;5;28;01mfor\u001b[39;00m (entity_idx, feature_idx, weight) \u001b[38;5;129;01min\u001b[39;00m \u001b[38;5;28mself\u001b[39m\u001b[38;5;241m.\u001b[39m_process_features(datum):\n\u001b[1;32m    120\u001b[0m         features\u001b[38;5;241m.\u001b[39mappend(entity_idx, feature_idx, weight)\n\u001b[1;32m    122\u001b[0m features \u001b[38;5;241m=\u001b[39m features\u001b[38;5;241m.\u001b[39mtocoo()\u001b[38;5;241m.\u001b[39mtocsr()\n",
      "File \u001b[0;32m~/Library/Python/3.9/lib/python/site-packages/lightfm/data.py:101\u001b[0m, in \u001b[0;36m_FeatureBuilder._process_features\u001b[0;34m(self, datum)\u001b[0m\n\u001b[1;32m     99\u001b[0m \u001b[38;5;28;01mfor\u001b[39;00m (feature, weight) \u001b[38;5;129;01min\u001b[39;00m \u001b[38;5;28mself\u001b[39m\u001b[38;5;241m.\u001b[39m_iter_features(features):\n\u001b[1;32m    100\u001b[0m     \u001b[38;5;28;01mif\u001b[39;00m feature \u001b[38;5;129;01mnot\u001b[39;00m \u001b[38;5;129;01min\u001b[39;00m \u001b[38;5;28mself\u001b[39m\u001b[38;5;241m.\u001b[39m_feature_mapping:\n\u001b[0;32m--> 101\u001b[0m         \u001b[38;5;28;01mraise\u001b[39;00m \u001b[38;5;167;01mValueError\u001b[39;00m(\n\u001b[1;32m    102\u001b[0m             \u001b[38;5;124m\"\u001b[39m\u001b[38;5;124mFeature \u001b[39m\u001b[38;5;132;01m{}\u001b[39;00m\u001b[38;5;124m not in feature mapping. \u001b[39m\u001b[38;5;124m\"\u001b[39m\n\u001b[1;32m    103\u001b[0m             \u001b[38;5;124m\"\u001b[39m\u001b[38;5;124mCall fit first.\u001b[39m\u001b[38;5;124m\"\u001b[39m\u001b[38;5;241m.\u001b[39mformat(feature)\n\u001b[1;32m    104\u001b[0m         )\n\u001b[1;32m    106\u001b[0m     feature_idx \u001b[38;5;241m=\u001b[39m \u001b[38;5;28mself\u001b[39m\u001b[38;5;241m.\u001b[39m_feature_mapping[feature]\n\u001b[1;32m    108\u001b[0m     \u001b[38;5;28;01myield\u001b[39;00m (idx, feature_idx, weight)\n",
      "\u001b[0;31mValueError\u001b[0m: Feature SOJLXET12AB0188632 not in feature mapping. Call fit first."
     ]
    }
   ],
   "source": [
    "new_user = \"new_user\"\n",
    "five_random_songs = df.sample(5)['song_id'].values\n",
    "playcounts = [1,2,4,5,6]\n",
    "\n",
    "recommendations, target_user_id = handle_new_user(model, dataset, list(zip(five_random_songs, playcounts)), new_user)\n",
    "\n"
   ]
  }
 ],
 "metadata": {
  "kernelspec": {
   "display_name": "Python 3",
   "language": "python",
   "name": "python3"
  },
  "language_info": {
   "codemirror_mode": {
    "name": "ipython",
    "version": 3
   },
   "file_extension": ".py",
   "mimetype": "text/x-python",
   "name": "python",
   "nbconvert_exporter": "python",
   "pygments_lexer": "ipython3",
   "version": "3.9.6"
  }
 },
 "nbformat": 4,
 "nbformat_minor": 2
}
