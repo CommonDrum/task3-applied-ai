{
 "cells": [
  {
   "cell_type": "code",
   "execution_count": 1,
   "metadata": {},
   "outputs": [
    {
     "name": "stderr",
     "output_type": "stream",
     "text": [
      "/Users/karolhetman/Library/Python/3.9/lib/python/site-packages/lightfm/_lightfm_fast.py:9: UserWarning: LightFM was compiled without OpenMP support. Only a single thread will be used.\n",
      "  warnings.warn(\n"
     ]
    }
   ],
   "source": [
    "import pandas as pd\n",
    "import numpy as np\n",
    "from lightfm import LightFM\n",
    "from lightfm.data import Dataset"
   ]
  },
  {
   "cell_type": "code",
   "execution_count": null,
   "metadata": {},
   "outputs": [],
   "source": [
    "def create_model(df):\n",
    "    dataset = Dataset()\n",
    "    dataset.fit(df['user_id'].unique(), df['song_id'].unique())\n",
    "    \n",
    "    interactions = dataset.build_interactions(\n",
    "        ((row['user_id'], row['song_id'], float(row['play_count'])) \n",
    "         for idx, row in df.iterrows())\n",
    "    )[0]\n",
    "    \n",
    "    model = LightFM(loss='warp')\n",
    "    model.fit(interactions, epochs=30, num_threads=2)\n",
    "    \n",
    "    return model, dataset\n",
    "\n",
    "def get_recommendations(model, dataset, df, user_index, num_recommendations=5):\n",
    "    target_user_id = df['user_id'].unique()[user_index]\n",
    "    n_items = len(dataset.mapping()[2])\n",
    "    user_id_map = dataset.mapping()[0]\n",
    "    user_internal_id = user_id_map[target_user_id]\n",
    "    \n",
    "    scores = model.predict(user_internal_id, np.arange(n_items))\n",
    "    top_items = np.argsort(-scores)[:num_recommendations]\n",
    "    \n",
    "    item_map = {v: k for k, v in dataset.mapping()[2].items()}\n",
    "    return [item_map[i] for i in top_items], target_user_id"
   ]
  },
  {
   "cell_type": "code",
   "execution_count": 2,
   "metadata": {},
   "outputs": [],
   "source": [
    "df = pd.read_csv('song_dataset.csv', header=None, \n",
    "                 names=['user_id', 'song_id', 'play_count', 'title', 'album', 'artist', 'year'])\n"
   ]
  },
  {
   "cell_type": "code",
   "execution_count": null,
   "metadata": {},
   "outputs": [],
   "source": [
    "# Building the interactions matrix https://making.lyst.com/lightfm/docs/lightfm.data.html\n",
    "# Some play_count values are missing, so we'll fill them with 0\n",
    "# and convert the column to numeric because it's currently a string\n",
    "'''TODO: Decide what we do with string values'''\n",
    "\n",
    "df['play_count'] = pd.to_numeric(df['play_count'], errors='coerce').fillna(0)\n",
    "\n",
    "dataset = Dataset()\n",
    "dataset.fit(df['user_id'].unique(), df['song_id'].unique())\n",
    "\n",
    "interactions = dataset.build_interactions(\n",
    "    ((row['user_id'], row['song_id'], row['play_count']) \n",
    "     for idx, row in df.iterrows())\n",
    ")[0]"
   ]
  },
  {
   "cell_type": "code",
   "execution_count": null,
   "metadata": {},
   "outputs": [
    {
     "data": {
      "text/plain": [
       "<lightfm.lightfm.LightFM at 0x147872eb0>"
      ]
     },
     "execution_count": 15,
     "metadata": {},
     "output_type": "execute_result"
    }
   ],
   "source": [
    "model = LightFM(loss='warp')\n",
    "model.fit(interactions, epochs=100, num_threads=2)"
   ]
  },
  {
   "cell_type": "code",
   "execution_count": null,
   "metadata": {},
   "outputs": [],
   "source": [
    "TARGET_USER = \"1\""
   ]
  },
  {
   "cell_type": "code",
   "execution_count": null,
   "metadata": {},
   "outputs": [],
   "source": []
  },
  {
   "cell_type": "code",
   "execution_count": null,
   "metadata": {},
   "outputs": [
    {
     "name": "stdout",
     "output_type": "stream",
     "text": [
      "5 Most Listened Songs by the First User:\n",
      "                                  title               artist  play_count\n",
      "101                           Moonshine         Jack Johnson         8.0\n",
      "47     Behind The Sea [Live In Chicago]   Panic At The Disco         6.0\n",
      "50                   Do You Wanna Dance        Bobby Freeman         6.0\n",
      "15         Apuesta Por El Rock 'N' Roll  Héroes del Silencio         5.0\n",
      "56   No So Silent Night (album version)           Bob Rivers         5.0\n",
      "\n",
      "5 Recommended Songs for the First User:\n",
      "                                                 title                  artist\n",
      "1509                                        Joe's Head           Kings Of Leon\n",
      "2435                          Dog Days Are Over (Demo)  Florence + The Machine\n",
      "2787                                          Boadicea                    Enya\n",
      "4261  The Remedy (I Won't Worry) (New EQ'd LP Version)              Jason Mraz\n",
      "7350                                     Invisible Sun              The Police\n"
     ]
    }
   ],
   "source": [
    "first_user = df['user_id'].iloc[1]\n",
    "\n",
    "most_listened_songs = df[df['user_id'] == first_user].sort_values(by='play_count', ascending=False).head(5)\n",
    "print(\"5 Most Listened Songs by the First User:\")\n",
    "print(most_listened_songs[['title', 'artist', 'play_count']])\n",
    "\n",
    "first_user_internal_id = user_id_map[first_user]\n",
    "\n",
    "scores = model.predict(first_user_internal_id, np.arange(n_items))\n",
    "top_items = np.argsort(-scores)[:5]\n",
    "\n",
    "recommended_song_ids = [item_map[item] for item in top_items]\n",
    "recommended_songs = df[df['song_id'].isin(recommended_song_ids)].drop_duplicates('song_id')\n",
    "print(\"\\n5 Recommended Songs for the First User:\")\n",
    "print(recommended_songs[['title', 'artist']])"
   ]
  },
  {
   "cell_type": "code",
   "execution_count": null,
   "metadata": {},
   "outputs": [],
   "source": [
    "random_songs = df.sample(5)\n",
    "\n",
    "#create a new user\n",
    "new_user_id = df[\"user_id\"][5] + \"42\"\n",
    "for idx, row in random_songs.iterrows():\n",
    "    copy = row.copy()\n",
    "    copy['user_id'] = new_user_id\n",
    "    df = df.add(copy)\n",
    "\n",
    "dataset.fit(df['user_id'].unique(), df['song_id'].unique())\n",
    "interactions = dataset.build_interactions(\n",
    "    ((row['user_id'], row['song_id'], row['play_count']) \n",
    "     for idx, row in df.iterrows())\n",
    ")[0]\n",
    "\n",
    "model.fit(interactions, epochs=100, num_threads=2)"
   ]
  },
  {
   "cell_type": "code",
   "execution_count": 28,
   "metadata": {},
   "outputs": [
    {
     "name": "stdout",
     "output_type": "stream",
     "text": [
      "\n",
      "5 Most Listened Songs by the New User:\n",
      "Empty DataFrame\n",
      "Columns: [title, artist, play_count]\n",
      "Index: []\n",
      "useruser1user1user1user1user1useruser1user1user1user1user11useruser1user1user1user1user11useruser1user1user1user1user11useruser1user1user1user1user11useruser1user1user1user1user11useruser1user1user1user1user1useruser1user1user1user1user11useruser1user1user1user1user11useruser1user1user1user1user11useruser1user1user1user1user11useruser1user1user1user1user111useruser1user1user1user1user1useruser1user1user1user1user11useruser1user1user1user1user11useruser1user1user1user1user11useruser1user1user1user1user11useruser1user1user1user1user111useruser1user1user1user1user1useruser1user1user1user1user11useruser1user1user1user1user11useruser1user1user1user1user11useruser1user1user1user1user11useruser1user1user1user1user111useruser1user1user1user1user1useruser1user1user1user1user11useruser1user1user1user1user11useruser1user1user1user1user11useruser1user1user1user1user11useruser1user1user1user1user111useruser1user1user1user1user1useruser1user1user1user1user11useruser1user1user1user1user11useruser1user1user1user1user11useruser1user1user1user1user11useruser1user1user1user1user1111\n"
     ]
    },
    {
     "ename": "KeyError",
     "evalue": "'useruser1user1user1user1user1useruser1user1user1user1user11useruser1user1user1user1user11useruser1user1user1user1user11useruser1user1user1user1user11useruser1user1user1user1user11useruser1user1user1user1user1useruser1user1user1user1user11useruser1user1user1user1user11useruser1user1user1user1user11useruser1user1user1user1user11useruser1user1user1user1user111useruser1user1user1user1user1useruser1user1user1user1user11useruser1user1user1user1user11useruser1user1user1user1user11useruser1user1user1user1user11useruser1user1user1user1user111useruser1user1user1user1user1useruser1user1user1user1user11useruser1user1user1user1user11useruser1user1user1user1user11useruser1user1user1user1user11useruser1user1user1user1user111useruser1user1user1user1user1useruser1user1user1user1user11useruser1user1user1user1user11useruser1user1user1user1user11useruser1user1user1user1user11useruser1user1user1user1user111useruser1user1user1user1user1useruser1user1user1user1user11useruser1user1user1user1user11useruser1user1user1user1user11useruser1user1user1user1user11useruser1user1user1user1user1111'",
     "output_type": "error",
     "traceback": [
      "\u001b[0;31m---------------------------------------------------------------------------\u001b[0m",
      "\u001b[0;31mKeyError\u001b[0m                                  Traceback (most recent call last)",
      "Cell \u001b[0;32mIn[28], line 6\u001b[0m\n\u001b[1;32m      3\u001b[0m \u001b[38;5;28mprint\u001b[39m(most_listened_songs_new_user[[\u001b[38;5;124m'\u001b[39m\u001b[38;5;124mtitle\u001b[39m\u001b[38;5;124m'\u001b[39m, \u001b[38;5;124m'\u001b[39m\u001b[38;5;124martist\u001b[39m\u001b[38;5;124m'\u001b[39m, \u001b[38;5;124m'\u001b[39m\u001b[38;5;124mplay_count\u001b[39m\u001b[38;5;124m'\u001b[39m]])\n\u001b[1;32m      5\u001b[0m \u001b[38;5;28mprint\u001b[39m(new_user_id)\n\u001b[0;32m----> 6\u001b[0m new_user_internal_id \u001b[38;5;241m=\u001b[39m \u001b[43muser_id_map\u001b[49m\u001b[43m[\u001b[49m\u001b[43mnew_user_id\u001b[49m\u001b[43m]\u001b[49m\n",
      "\u001b[0;31mKeyError\u001b[0m: 'useruser1user1user1user1user1useruser1user1user1user1user11useruser1user1user1user1user11useruser1user1user1user1user11useruser1user1user1user1user11useruser1user1user1user1user11useruser1user1user1user1user1useruser1user1user1user1user11useruser1user1user1user1user11useruser1user1user1user1user11useruser1user1user1user1user11useruser1user1user1user1user111useruser1user1user1user1user1useruser1user1user1user1user11useruser1user1user1user1user11useruser1user1user1user1user11useruser1user1user1user1user11useruser1user1user1user1user111useruser1user1user1user1user1useruser1user1user1user1user11useruser1user1user1user1user11useruser1user1user1user1user11useruser1user1user1user1user11useruser1user1user1user1user111useruser1user1user1user1user1useruser1user1user1user1user11useruser1user1user1user1user11useruser1user1user1user1user11useruser1user1user1user1user11useruser1user1user1user1user111useruser1user1user1user1user1useruser1user1user1user1user11useruser1user1user1user1user11useruser1user1user1user1user11useruser1user1user1user1user11useruser1user1user1user1user1111'"
     ]
    }
   ],
   "source": [
    "\n",
    "most_listened_songs_new_user = df[df['user_id'] == new_user_id].sort_values(by='play_count', ascending=False).head(5)\n",
    "print(\"\\n5 Most Listened Songs by the New User:\")\n",
    "print(most_listened_songs_new_user[['title', 'artist', 'play_count']])\n",
    "\n",
    "print(new_user_id)\n",
    "new_user_internal_id = user_id_map[new_user_id]\n"
   ]
  }
 ],
 "metadata": {
  "kernelspec": {
   "display_name": "Python 3",
   "language": "python",
   "name": "python3"
  },
  "language_info": {
   "codemirror_mode": {
    "name": "ipython",
    "version": 3
   },
   "file_extension": ".py",
   "mimetype": "text/x-python",
   "name": "python",
   "nbconvert_exporter": "python",
   "pygments_lexer": "ipython3",
   "version": "3.9.6"
  }
 },
 "nbformat": 4,
 "nbformat_minor": 2
}
